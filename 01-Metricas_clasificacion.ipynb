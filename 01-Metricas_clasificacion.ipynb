{
 "cells": [
  {
   "cell_type": "markdown",
   "metadata": {},
   "source": [
    "<h1> Metricas de clasificación </h1>"
   ]
  },
  {
   "cell_type": "code",
   "execution_count": 2,
   "metadata": {},
   "outputs": [],
   "source": [
    "\n",
    "from sklearn.metrics import accuracy_score\n",
    "from sklearn.metrics import confusion_matrix\n",
    "from sklearn.metrics import classification_report\n",
    "import numpy as np"
   ]
  },
  {
   "cell_type": "markdown",
   "metadata": {},
   "source": [
    "<h2>Matriz de confusión </h2>"
   ]
  },
  {
   "cell_type": "code",
   "execution_count": 3,
   "metadata": {},
   "outputs": [
    {
     "name": "stdout",
     "output_type": "stream",
     "text": [
      "Matriz de confusión:\n",
      " Esta ordenada:\n",
      " [tn fp]\n",
      " [fn tp]\n",
      "\n",
      "[[1 3]\n",
      " [4 2]]\n",
      "\n",
      "Verdadero Positivo: 2\n",
      "Falso positivo: 3 \n",
      "Falso negatico: 4\n",
      "Verdadero negativo: 1\n"
     ]
    }
   ],
   "source": [
    "#Matriz de confusión para dos clases\n",
    "y_prediccion =     [0, 1, 1, 1, 1, 1, 0, 0, 0, 0]\n",
    "y_valores_reales = [0, 1, 1, 0, 0, 0, 1, 1, 1, 1]\n",
    "print(f\"Matriz de confusión:\\n Esta ordenada:\\n [tn fp]\\n [fn tp]\\n\\n{confusion_matrix(y_valores_reales, y_prediccion)}\")\n",
    "tn, fp, fn, tp = confusion_matrix(y_valores_reales, y_prediccion).ravel()\n",
    "print(f\"\\nVerdadero Positivo: {tp}\\nFalso positivo: {fp} \\nFalso negatico: {fn}\\nVerdadero negativo: {tn}\")"
   ]
  },
  {
   "cell_type": "code",
   "execution_count": 4,
   "metadata": {},
   "outputs": [
    {
     "name": "stdout",
     "output_type": "stream",
     "text": [
      "Matriz de confusión:\n",
      " [[2 0 0 0]\n",
      " [0 1 1 0]\n",
      " [0 1 1 1]\n",
      " [0 1 0 2]]\n"
     ]
    }
   ],
   "source": [
    "#Tambien se puede hacer la matriz de confusión clases mayor a 2\n",
    "y_prediccion = [0, 1, 1, 3, 2, 3, 1, 2, 3, 0]\n",
    "y_valores_reales = [0, 1, 2, 3, 1, 2, 3, 2, 3, 0]\n",
    "print(f\"Matriz de confusión:\\n {confusion_matrix(y_valores_reales, y_prediccion)}\")"
   ]
  },
  {
   "cell_type": "markdown",
   "metadata": {},
   "source": [
    "<h2> Metrica de precisión</h2>"
   ]
  },
  {
   "cell_type": "code",
   "execution_count": 5,
   "metadata": {},
   "outputs": [
    {
     "name": "stdout",
     "output_type": "stream",
     "text": [
      "Puntaje de Precisión: 0.6\n"
     ]
    }
   ],
   "source": [
    "#Usando la metrica de clasificación acurracy score\n",
    "y_prediccion = [0, 1, 1, 3, 2, 3, 1, 2, 3, 0]\n",
    "y_valores_reales = [0, 1, 2, 3, 1, 2, 3, 2, 3, 0]\n",
    "print(f\"Puntaje de Precisión: {accuracy_score(y_valores_reales, y_prediccion)}\")"
   ]
  },
  {
   "cell_type": "markdown",
   "metadata": {},
   "source": [
    "<h2>Función que devuelve varias metricas juntas \"classification_report\"</h2>"
   ]
  },
  {
   "cell_type": "code",
   "execution_count": 6,
   "metadata": {},
   "outputs": [
    {
     "name": "stdout",
     "output_type": "stream",
     "text": [
      "Classification Report:\n",
      "              precision    recall  f1-score   support\n",
      "\n",
      "     Clase 0       0.50      0.50      0.50         2\n",
      "     Clase 1       0.25      0.33      0.29         3\n",
      "     Clase 2       0.25      0.25      0.25         4\n",
      "     Clase 3       0.00      0.00      0.00         3\n",
      "     Clase 4       0.50      0.33      0.40         3\n",
      "\n",
      "    accuracy                           0.27        15\n",
      "   macro avg       0.30      0.28      0.29        15\n",
      "weighted avg       0.28      0.27      0.27        15\n",
      "\n"
     ]
    }
   ],
   "source": [
    "y_prediccion =     [0, 1, 1, 3, 2, 3, 1, 2, 3, 0, 4, 2, 1, 4, 2]\n",
    "y_valores_reales = [0, 1, 4, 2, 3, 1, 2, 3, 2, 3, 0, 1, 4, 4, 2]\n",
    "nombre_clases = ['Clase 0','Clase 1', 'Clase 2', 'Clase 3', 'Clase 4']\n",
    "print(f\"Classification Report:\\n{classification_report(y_valores_reales, y_prediccion,target_names=nombre_clases)}\")"
   ]
  },
  {
   "cell_type": "code",
   "execution_count": null,
   "metadata": {},
   "outputs": [],
   "source": []
  }
 ],
 "metadata": {
  "kernelspec": {
   "display_name": "Python 3",
   "language": "python",
   "name": "python3"
  },
  "language_info": {
   "codemirror_mode": {
    "name": "ipython",
    "version": 3
   },
   "file_extension": ".py",
   "mimetype": "text/x-python",
   "name": "python",
   "nbconvert_exporter": "python",
   "pygments_lexer": "ipython3",
   "version": "3.7.4"
  },
  "latex_envs": {
   "LaTeX_envs_menu_present": true,
   "autoclose": false,
   "autocomplete": true,
   "bibliofile": "biblio.bib",
   "cite_by": "apalike",
   "current_citInitial": 1,
   "eqLabelWithNumbers": true,
   "eqNumInitial": 1,
   "hotkeys": {
    "equation": "Ctrl-E",
    "itemize": "Ctrl-I"
   },
   "labels_anchors": false,
   "latex_user_defs": false,
   "report_style_numbering": false,
   "user_envs_cfg": false
  },
  "nbTranslate": {
   "displayLangs": [
    "*"
   ],
   "hotkey": "alt-t",
   "langInMainMenu": true,
   "sourceLang": "en",
   "targetLang": "fr",
   "useGoogleTranslate": true
  },
  "toc": {
   "base_numbering": 1,
   "nav_menu": {},
   "number_sections": true,
   "sideBar": true,
   "skip_h1_title": false,
   "title_cell": "Table of Contents",
   "title_sidebar": "Contents",
   "toc_cell": false,
   "toc_position": {},
   "toc_section_display": true,
   "toc_window_display": false
  },
  "varInspector": {
   "cols": {
    "lenName": 16,
    "lenType": 16,
    "lenVar": 40
   },
   "kernels_config": {
    "python": {
     "delete_cmd_postfix": "",
     "delete_cmd_prefix": "del ",
     "library": "var_list.py",
     "varRefreshCmd": "print(var_dic_list())"
    },
    "r": {
     "delete_cmd_postfix": ") ",
     "delete_cmd_prefix": "rm(",
     "library": "var_list.r",
     "varRefreshCmd": "cat(var_dic_list()) "
    }
   },
   "types_to_exclude": [
    "module",
    "function",
    "builtin_function_or_method",
    "instance",
    "_Feature"
   ],
   "window_display": false
  }
 },
 "nbformat": 4,
 "nbformat_minor": 4
}
